{
  "nbformat": 4,
  "nbformat_minor": 0,
  "metadata": {
    "colab": {
      "provenance": []
    },
    "kernelspec": {
      "name": "python3",
      "display_name": "Python 3"
    },
    "language_info": {
      "name": "python"
    }
  },
  "cells": [
    {
      "cell_type": "code",
      "execution_count": null,
      "metadata": {
        "colab": {
          "base_uri": "https://localhost:8080/",
          "height": 733
        },
        "id": "lZEsYc-CCPVO",
        "outputId": "44535048-7d7d-4815-8777-5f213ba0e28e"
      },
      "outputs": [
        {
          "output_type": "execute_result",
          "data": {
            "text/plain": [
              "   part_id  clinical_visit      fried gender                    q_date  age  \\\n",
              "0     1084               1  Pre-frail      M  2016-10-05T22:52:28.000Z   78   \n",
              "1     1084               2  Pre-frail      M  2017-07-20T00:00:00.000Z   79   \n",
              "2     1084               3  Pre-frail      M  2017-12-01T00:00:00.000Z   79   \n",
              "3     1084               4  Pre-frail      M  2018-09-24T00:00:00.000Z   80   \n",
              "4     1085               1  Non frail      F  2016-10-10T15:04:04.000Z   72   \n",
              "\n",
              "  comorbidities_most_important  hospitalization_one_year  \\\n",
              "0             Non of the above                         0   \n",
              "1             Non of the above                         0   \n",
              "2             Non of the above                         0   \n",
              "3             Non of the above                         0   \n",
              "4             Non of the above                         1   \n",
              "\n",
              "   hospitalization_three_years ortho_hypotension  ... health_rate_comparison  \\\n",
              "0                            0                No  ...     3 - About the same   \n",
              "1                            0                No  ...     3 - About the same   \n",
              "2                            0                No  ...     3 - About the same   \n",
              "3                            0                No  ...     3 - About the same   \n",
              "4                            3                No  ...     3 - About the same   \n",
              "\n",
              "  pain_perception          activity_regular  \\\n",
              "0             1.2            > 5 h per week   \n",
              "1             1.0            > 5 h per week   \n",
              "2             1.3            > 5 h per week   \n",
              "3             2.5            > 5 h per week   \n",
              "4             2.5  > 2 h and < 5 h per week   \n",
              "\n",
              "                                   smoking  alcohol_units katz_index  \\\n",
              "0  Past smoker (stopped at least 6 months)            1.5        6.0   \n",
              "1  Past smoker (stopped at least 6 months)           21.0        6.0   \n",
              "2  Past smoker (stopped at least 6 months)           14.0        6.0   \n",
              "3  Past smoker (stopped at least 6 months)           18.0        6.0   \n",
              "4  Past smoker (stopped at least 6 months)            0.0        6.0   \n",
              "\n",
              "   iadl_grade  comorbidities_count  comorbidities_significant_count  \\\n",
              "0          29                    6                                2   \n",
              "1          25                    7                                0   \n",
              "2          24                    7                                0   \n",
              "3          26                    8                                0   \n",
              "4          31                   11                                1   \n",
              "\n",
              "  medication_count  \n",
              "0                5  \n",
              "1                6  \n",
              "2                6  \n",
              "3                7  \n",
              "4               10  \n",
              "\n",
              "[5 rows x 59 columns]"
            ],
            "text/html": [
              "\n",
              "\n",
              "  <div id=\"df-adc35a03-d983-4300-aac5-c7ed8d0e1c0f\">\n",
              "    <div class=\"colab-df-container\">\n",
              "      <div>\n",
              "<style scoped>\n",
              "    .dataframe tbody tr th:only-of-type {\n",
              "        vertical-align: middle;\n",
              "    }\n",
              "\n",
              "    .dataframe tbody tr th {\n",
              "        vertical-align: top;\n",
              "    }\n",
              "\n",
              "    .dataframe thead th {\n",
              "        text-align: right;\n",
              "    }\n",
              "</style>\n",
              "<table border=\"1\" class=\"dataframe\">\n",
              "  <thead>\n",
              "    <tr style=\"text-align: right;\">\n",
              "      <th></th>\n",
              "      <th>part_id</th>\n",
              "      <th>clinical_visit</th>\n",
              "      <th>fried</th>\n",
              "      <th>gender</th>\n",
              "      <th>q_date</th>\n",
              "      <th>age</th>\n",
              "      <th>comorbidities_most_important</th>\n",
              "      <th>hospitalization_one_year</th>\n",
              "      <th>hospitalization_three_years</th>\n",
              "      <th>ortho_hypotension</th>\n",
              "      <th>...</th>\n",
              "      <th>health_rate_comparison</th>\n",
              "      <th>pain_perception</th>\n",
              "      <th>activity_regular</th>\n",
              "      <th>smoking</th>\n",
              "      <th>alcohol_units</th>\n",
              "      <th>katz_index</th>\n",
              "      <th>iadl_grade</th>\n",
              "      <th>comorbidities_count</th>\n",
              "      <th>comorbidities_significant_count</th>\n",
              "      <th>medication_count</th>\n",
              "    </tr>\n",
              "  </thead>\n",
              "  <tbody>\n",
              "    <tr>\n",
              "      <th>0</th>\n",
              "      <td>1084</td>\n",
              "      <td>1</td>\n",
              "      <td>Pre-frail</td>\n",
              "      <td>M</td>\n",
              "      <td>2016-10-05T22:52:28.000Z</td>\n",
              "      <td>78</td>\n",
              "      <td>Non of the above</td>\n",
              "      <td>0</td>\n",
              "      <td>0</td>\n",
              "      <td>No</td>\n",
              "      <td>...</td>\n",
              "      <td>3 - About the same</td>\n",
              "      <td>1.2</td>\n",
              "      <td>&gt; 5 h per week</td>\n",
              "      <td>Past smoker (stopped at least 6 months)</td>\n",
              "      <td>1.5</td>\n",
              "      <td>6.0</td>\n",
              "      <td>29</td>\n",
              "      <td>6</td>\n",
              "      <td>2</td>\n",
              "      <td>5</td>\n",
              "    </tr>\n",
              "    <tr>\n",
              "      <th>1</th>\n",
              "      <td>1084</td>\n",
              "      <td>2</td>\n",
              "      <td>Pre-frail</td>\n",
              "      <td>M</td>\n",
              "      <td>2017-07-20T00:00:00.000Z</td>\n",
              "      <td>79</td>\n",
              "      <td>Non of the above</td>\n",
              "      <td>0</td>\n",
              "      <td>0</td>\n",
              "      <td>No</td>\n",
              "      <td>...</td>\n",
              "      <td>3 - About the same</td>\n",
              "      <td>1.0</td>\n",
              "      <td>&gt; 5 h per week</td>\n",
              "      <td>Past smoker (stopped at least 6 months)</td>\n",
              "      <td>21.0</td>\n",
              "      <td>6.0</td>\n",
              "      <td>25</td>\n",
              "      <td>7</td>\n",
              "      <td>0</td>\n",
              "      <td>6</td>\n",
              "    </tr>\n",
              "    <tr>\n",
              "      <th>2</th>\n",
              "      <td>1084</td>\n",
              "      <td>3</td>\n",
              "      <td>Pre-frail</td>\n",
              "      <td>M</td>\n",
              "      <td>2017-12-01T00:00:00.000Z</td>\n",
              "      <td>79</td>\n",
              "      <td>Non of the above</td>\n",
              "      <td>0</td>\n",
              "      <td>0</td>\n",
              "      <td>No</td>\n",
              "      <td>...</td>\n",
              "      <td>3 - About the same</td>\n",
              "      <td>1.3</td>\n",
              "      <td>&gt; 5 h per week</td>\n",
              "      <td>Past smoker (stopped at least 6 months)</td>\n",
              "      <td>14.0</td>\n",
              "      <td>6.0</td>\n",
              "      <td>24</td>\n",
              "      <td>7</td>\n",
              "      <td>0</td>\n",
              "      <td>6</td>\n",
              "    </tr>\n",
              "    <tr>\n",
              "      <th>3</th>\n",
              "      <td>1084</td>\n",
              "      <td>4</td>\n",
              "      <td>Pre-frail</td>\n",
              "      <td>M</td>\n",
              "      <td>2018-09-24T00:00:00.000Z</td>\n",
              "      <td>80</td>\n",
              "      <td>Non of the above</td>\n",
              "      <td>0</td>\n",
              "      <td>0</td>\n",
              "      <td>No</td>\n",
              "      <td>...</td>\n",
              "      <td>3 - About the same</td>\n",
              "      <td>2.5</td>\n",
              "      <td>&gt; 5 h per week</td>\n",
              "      <td>Past smoker (stopped at least 6 months)</td>\n",
              "      <td>18.0</td>\n",
              "      <td>6.0</td>\n",
              "      <td>26</td>\n",
              "      <td>8</td>\n",
              "      <td>0</td>\n",
              "      <td>7</td>\n",
              "    </tr>\n",
              "    <tr>\n",
              "      <th>4</th>\n",
              "      <td>1085</td>\n",
              "      <td>1</td>\n",
              "      <td>Non frail</td>\n",
              "      <td>F</td>\n",
              "      <td>2016-10-10T15:04:04.000Z</td>\n",
              "      <td>72</td>\n",
              "      <td>Non of the above</td>\n",
              "      <td>1</td>\n",
              "      <td>3</td>\n",
              "      <td>No</td>\n",
              "      <td>...</td>\n",
              "      <td>3 - About the same</td>\n",
              "      <td>2.5</td>\n",
              "      <td>&gt; 2 h and &lt; 5 h per week</td>\n",
              "      <td>Past smoker (stopped at least 6 months)</td>\n",
              "      <td>0.0</td>\n",
              "      <td>6.0</td>\n",
              "      <td>31</td>\n",
              "      <td>11</td>\n",
              "      <td>1</td>\n",
              "      <td>10</td>\n",
              "    </tr>\n",
              "  </tbody>\n",
              "</table>\n",
              "<p>5 rows × 59 columns</p>\n",
              "</div>\n",
              "      <button class=\"colab-df-convert\" onclick=\"convertToInteractive('df-adc35a03-d983-4300-aac5-c7ed8d0e1c0f')\"\n",
              "              title=\"Convert this dataframe to an interactive table.\"\n",
              "              style=\"display:none;\">\n",
              "\n",
              "  <svg xmlns=\"http://www.w3.org/2000/svg\" height=\"24px\"viewBox=\"0 0 24 24\"\n",
              "       width=\"24px\">\n",
              "    <path d=\"M0 0h24v24H0V0z\" fill=\"none\"/>\n",
              "    <path d=\"M18.56 5.44l.94 2.06.94-2.06 2.06-.94-2.06-.94-.94-2.06-.94 2.06-2.06.94zm-11 1L8.5 8.5l.94-2.06 2.06-.94-2.06-.94L8.5 2.5l-.94 2.06-2.06.94zm10 10l.94 2.06.94-2.06 2.06-.94-2.06-.94-.94-2.06-.94 2.06-2.06.94z\"/><path d=\"M17.41 7.96l-1.37-1.37c-.4-.4-.92-.59-1.43-.59-.52 0-1.04.2-1.43.59L10.3 9.45l-7.72 7.72c-.78.78-.78 2.05 0 2.83L4 21.41c.39.39.9.59 1.41.59.51 0 1.02-.2 1.41-.59l7.78-7.78 2.81-2.81c.8-.78.8-2.07 0-2.86zM5.41 20L4 18.59l7.72-7.72 1.47 1.35L5.41 20z\"/>\n",
              "  </svg>\n",
              "      </button>\n",
              "\n",
              "\n",
              "\n",
              "    <div id=\"df-c6369780-b5f8-421a-adb3-6457ff7ee40f\">\n",
              "      <button class=\"colab-df-quickchart\" onclick=\"quickchart('df-c6369780-b5f8-421a-adb3-6457ff7ee40f')\"\n",
              "              title=\"Suggest charts.\"\n",
              "              style=\"display:none;\">\n",
              "\n",
              "<svg xmlns=\"http://www.w3.org/2000/svg\" height=\"24px\"viewBox=\"0 0 24 24\"\n",
              "     width=\"24px\">\n",
              "    <g>\n",
              "        <path d=\"M19 3H5c-1.1 0-2 .9-2 2v14c0 1.1.9 2 2 2h14c1.1 0 2-.9 2-2V5c0-1.1-.9-2-2-2zM9 17H7v-7h2v7zm4 0h-2V7h2v10zm4 0h-2v-4h2v4z\"/>\n",
              "    </g>\n",
              "</svg>\n",
              "      </button>\n",
              "    </div>\n",
              "\n",
              "<style>\n",
              "  .colab-df-quickchart {\n",
              "    background-color: #E8F0FE;\n",
              "    border: none;\n",
              "    border-radius: 50%;\n",
              "    cursor: pointer;\n",
              "    display: none;\n",
              "    fill: #1967D2;\n",
              "    height: 32px;\n",
              "    padding: 0 0 0 0;\n",
              "    width: 32px;\n",
              "  }\n",
              "\n",
              "  .colab-df-quickchart:hover {\n",
              "    background-color: #E2EBFA;\n",
              "    box-shadow: 0px 1px 2px rgba(60, 64, 67, 0.3), 0px 1px 3px 1px rgba(60, 64, 67, 0.15);\n",
              "    fill: #174EA6;\n",
              "  }\n",
              "\n",
              "  [theme=dark] .colab-df-quickchart {\n",
              "    background-color: #3B4455;\n",
              "    fill: #D2E3FC;\n",
              "  }\n",
              "\n",
              "  [theme=dark] .colab-df-quickchart:hover {\n",
              "    background-color: #434B5C;\n",
              "    box-shadow: 0px 1px 3px 1px rgba(0, 0, 0, 0.15);\n",
              "    filter: drop-shadow(0px 1px 2px rgba(0, 0, 0, 0.3));\n",
              "    fill: #FFFFFF;\n",
              "  }\n",
              "</style>\n",
              "\n",
              "    <script>\n",
              "      async function quickchart(key) {\n",
              "        const containerElement = document.querySelector('#' + key);\n",
              "        const charts = await google.colab.kernel.invokeFunction(\n",
              "            'suggestCharts', [key], {});\n",
              "      }\n",
              "    </script>\n",
              "\n",
              "      <script>\n",
              "\n",
              "function displayQuickchartButton(domScope) {\n",
              "  let quickchartButtonEl =\n",
              "    domScope.querySelector('#df-c6369780-b5f8-421a-adb3-6457ff7ee40f button.colab-df-quickchart');\n",
              "  quickchartButtonEl.style.display =\n",
              "    google.colab.kernel.accessAllowed ? 'block' : 'none';\n",
              "}\n",
              "\n",
              "        displayQuickchartButton(document);\n",
              "      </script>\n",
              "      <style>\n",
              "    .colab-df-container {\n",
              "      display:flex;\n",
              "      flex-wrap:wrap;\n",
              "      gap: 12px;\n",
              "    }\n",
              "\n",
              "    .colab-df-convert {\n",
              "      background-color: #E8F0FE;\n",
              "      border: none;\n",
              "      border-radius: 50%;\n",
              "      cursor: pointer;\n",
              "      display: none;\n",
              "      fill: #1967D2;\n",
              "      height: 32px;\n",
              "      padding: 0 0 0 0;\n",
              "      width: 32px;\n",
              "    }\n",
              "\n",
              "    .colab-df-convert:hover {\n",
              "      background-color: #E2EBFA;\n",
              "      box-shadow: 0px 1px 2px rgba(60, 64, 67, 0.3), 0px 1px 3px 1px rgba(60, 64, 67, 0.15);\n",
              "      fill: #174EA6;\n",
              "    }\n",
              "\n",
              "    [theme=dark] .colab-df-convert {\n",
              "      background-color: #3B4455;\n",
              "      fill: #D2E3FC;\n",
              "    }\n",
              "\n",
              "    [theme=dark] .colab-df-convert:hover {\n",
              "      background-color: #434B5C;\n",
              "      box-shadow: 0px 1px 3px 1px rgba(0, 0, 0, 0.15);\n",
              "      filter: drop-shadow(0px 1px 2px rgba(0, 0, 0, 0.3));\n",
              "      fill: #FFFFFF;\n",
              "    }\n",
              "  </style>\n",
              "\n",
              "      <script>\n",
              "        const buttonEl =\n",
              "          document.querySelector('#df-adc35a03-d983-4300-aac5-c7ed8d0e1c0f button.colab-df-convert');\n",
              "        buttonEl.style.display =\n",
              "          google.colab.kernel.accessAllowed ? 'block' : 'none';\n",
              "\n",
              "        async function convertToInteractive(key) {\n",
              "          const element = document.querySelector('#df-adc35a03-d983-4300-aac5-c7ed8d0e1c0f');\n",
              "          const dataTable =\n",
              "            await google.colab.kernel.invokeFunction('convertToInteractive',\n",
              "                                                     [key], {});\n",
              "          if (!dataTable) return;\n",
              "\n",
              "          const docLinkHtml = 'Like what you see? Visit the ' +\n",
              "            '<a target=\"_blank\" href=https://colab.research.google.com/notebooks/data_table.ipynb>data table notebook</a>'\n",
              "            + ' to learn more about interactive tables.';\n",
              "          element.innerHTML = '';\n",
              "          dataTable['output_type'] = 'display_data';\n",
              "          await google.colab.output.renderOutput(dataTable, element);\n",
              "          const docLink = document.createElement('div');\n",
              "          docLink.innerHTML = docLinkHtml;\n",
              "          element.appendChild(docLink);\n",
              "        }\n",
              "      </script>\n",
              "    </div>\n",
              "  </div>\n"
            ]
          },
          "metadata": {},
          "execution_count": 2
        }
      ],
      "source": [
        "import pandas as pd\n",
        "\n",
        "# Load the dataset\n",
        "df = pd.read_csv('Virtual Patient Models_Dataset.csv')\n",
        "\n",
        "# Display the first few rows of the dataset\n",
        "df.head()"
      ]
    },
    {
      "cell_type": "code",
      "source": [
        "# Check for missing values in the dataset\n",
        "missing_values = df.isnull().sum()\n",
        "\n",
        "# Display the features with missing values and the corresponding count\n",
        "missing_values[missing_values > 0]\n"
      ],
      "metadata": {
        "colab": {
          "base_uri": "https://localhost:8080/"
        },
        "id": "a3U_6wCYCisi",
        "outputId": "adce9954-3575-4b9c-fccb-ca268261a3d6"
      },
      "execution_count": null,
      "outputs": [
        {
          "output_type": "execute_result",
          "data": {
            "text/plain": [
              "comorbidities_most_important      1\n",
              "bmi_body_fat                     33\n",
              "waist                             1\n",
              "lean_body_mass                   33\n",
              "mna_total                       114\n",
              "cognitive_total_score             3\n",
              "memory_complain                   4\n",
              "sleep                             1\n",
              "leisure_club                      2\n",
              "house_suitable_participant       62\n",
              "house_suitable_professional      62\n",
              "stairs_number                    62\n",
              "activity_regular                  2\n",
              "dtype: int64"
            ]
          },
          "metadata": {},
          "execution_count": 3
        }
      ]
    },
    {
      "cell_type": "code",
      "source": [
        "# Drop the specified columns with missing values\n",
        "df = df.drop(columns=['bmi_body_fat', 'house_suitable_participant', 'house_suitable_professional', 'stairs_number', 'lean_body_mass', 'mna_total'])\n",
        "\n",
        "# Check remaining missing values\n",
        "remaining_missing_values = df.isnull().sum()\n",
        "remaining_missing_values[remaining_missing_values > 0]\n"
      ],
      "metadata": {
        "colab": {
          "base_uri": "https://localhost:8080/"
        },
        "id": "aK5-O2enG049",
        "outputId": "aab195e5-5d0e-4ba4-e387-f51f7aaab945"
      },
      "execution_count": null,
      "outputs": [
        {
          "output_type": "execute_result",
          "data": {
            "text/plain": [
              "comorbidities_most_important    1\n",
              "waist                           1\n",
              "cognitive_total_score           3\n",
              "memory_complain                 4\n",
              "sleep                           1\n",
              "leisure_club                    2\n",
              "activity_regular                2\n",
              "dtype: int64"
            ]
          },
          "metadata": {},
          "execution_count": 4
        }
      ]
    },
    {
      "cell_type": "code",
      "source": [
        "# Identify the categorical and numerical features\n",
        "categorical_features = df.select_dtypes(include=['object']).columns\n",
        "numerical_features = df.select_dtypes(include=['int64', 'float64']).columns\n",
        "\n",
        "# Fill missing values: 'mean' for numerical features and 'median' for categorical features\n",
        "df[numerical_features] = df[numerical_features].apply(lambda x: x.fillna(x.mean()))\n",
        "df[categorical_features] = df[categorical_features].apply(lambda x: x.fillna(x.value_counts().index[0]))\n",
        "\n",
        "# Check if there are still missing values\n",
        "remaining_missing_values = df.isnull().sum()\n",
        "remaining_missing_values[remaining_missing_values > 0]\n"
      ],
      "metadata": {
        "colab": {
          "base_uri": "https://localhost:8080/"
        },
        "id": "tUS8xurwHAUa",
        "outputId": "7e5c75df-2055-43e9-b73f-66d16ba89e39"
      },
      "execution_count": null,
      "outputs": [
        {
          "output_type": "execute_result",
          "data": {
            "text/plain": [
              "Series([], dtype: int64)"
            ]
          },
          "metadata": {},
          "execution_count": 5
        }
      ]
    },
    {
      "cell_type": "code",
      "source": [
        "df.columns"
      ],
      "metadata": {
        "colab": {
          "base_uri": "https://localhost:8080/"
        },
        "id": "61ysRjeAHBCF",
        "outputId": "c8594b35-8123-41ad-e181-a2eabe8426a6"
      },
      "execution_count": null,
      "outputs": [
        {
          "output_type": "execute_result",
          "data": {
            "text/plain": [
              "Index(['part_id', 'clinical_visit', 'fried', 'gender', 'q_date', 'age',\n",
              "       'comorbidities_most_important', 'hospitalization_one_year',\n",
              "       'hospitalization_three_years', 'ortho_hypotension', 'vision',\n",
              "       'audition', 'weight_loss', 'exhaustion_score', 'raise_chair_time',\n",
              "       'balance_single', 'gait_get_up', 'gait_speed_4m',\n",
              "       'gait_optional_binary', 'gait_speed_slower', 'grip_strength_abnormal',\n",
              "       'low_physical_activity', 'falls_one_year', 'fractures_three_years',\n",
              "       'bmi_score', 'waist', 'screening_score', 'cognitive_total_score',\n",
              "       'memory_complain', 'sleep', 'mmse_total_score',\n",
              "       'depression_total_score', 'anxiety_perception', 'living_alone',\n",
              "       'leisure_out', 'leisure_club', 'social_visits', 'social_calls',\n",
              "       'social_phone', 'social_skype', 'social_text', 'life_quality',\n",
              "       'health_rate', 'health_rate_comparison', 'pain_perception',\n",
              "       'activity_regular', 'smoking', 'alcohol_units', 'katz_index',\n",
              "       'iadl_grade', 'comorbidities_count', 'comorbidities_significant_count',\n",
              "       'medication_count'],\n",
              "      dtype='object')"
            ]
          },
          "metadata": {},
          "execution_count": 6
        }
      ]
    },
    {
      "cell_type": "code",
      "source": [
        "# Select the specified parameters\n",
        "specified_params_df = df[['falls_one_year', 'fractures_three_years', 'fried', 'gait_get_up', 'gait_speed_4m']]\n",
        "\n",
        "# Check the distribution of these parameters\n",
        "specified_params_df.describe(include='all')\n"
      ],
      "metadata": {
        "colab": {
          "base_uri": "https://localhost:8080/",
          "height": 394
        },
        "id": "GNweyIA3HGfI",
        "outputId": "a9874fb5-e39c-4767-e7ec-5e0d51db8b17"
      },
      "execution_count": null,
      "outputs": [
        {
          "output_type": "execute_result",
          "data": {
            "text/plain": [
              "        falls_one_year  fractures_three_years      fried  gait_get_up  \\\n",
              "count       117.000000             117.000000        117   117.000000   \n",
              "unique             NaN                    NaN          3          NaN   \n",
              "top                NaN                    NaN  Pre-frail          NaN   \n",
              "freq               NaN                    NaN         48          NaN   \n",
              "mean          0.418803               0.170940        NaN    18.719658   \n",
              "std           1.921921               0.576712        NaN    91.527393   \n",
              "min           0.000000               0.000000        NaN     4.000000   \n",
              "25%           0.000000               0.000000        NaN     7.430000   \n",
              "50%           0.000000               0.000000        NaN     9.050000   \n",
              "75%           0.000000               0.000000        NaN    11.800000   \n",
              "max          20.000000               5.000000        NaN   999.000000   \n",
              "\n",
              "        gait_speed_4m  \n",
              "count      117.000000  \n",
              "unique            NaN  \n",
              "top               NaN  \n",
              "freq              NaN  \n",
              "mean         6.619915  \n",
              "std          3.556938  \n",
              "min          2.540000  \n",
              "25%          4.570000  \n",
              "50%          5.600000  \n",
              "75%          7.300000  \n",
              "max         22.800000  "
            ],
            "text/html": [
              "\n",
              "\n",
              "  <div id=\"df-f4eef8c6-492a-484c-82d0-88f0e3c39e51\">\n",
              "    <div class=\"colab-df-container\">\n",
              "      <div>\n",
              "<style scoped>\n",
              "    .dataframe tbody tr th:only-of-type {\n",
              "        vertical-align: middle;\n",
              "    }\n",
              "\n",
              "    .dataframe tbody tr th {\n",
              "        vertical-align: top;\n",
              "    }\n",
              "\n",
              "    .dataframe thead th {\n",
              "        text-align: right;\n",
              "    }\n",
              "</style>\n",
              "<table border=\"1\" class=\"dataframe\">\n",
              "  <thead>\n",
              "    <tr style=\"text-align: right;\">\n",
              "      <th></th>\n",
              "      <th>falls_one_year</th>\n",
              "      <th>fractures_three_years</th>\n",
              "      <th>fried</th>\n",
              "      <th>gait_get_up</th>\n",
              "      <th>gait_speed_4m</th>\n",
              "    </tr>\n",
              "  </thead>\n",
              "  <tbody>\n",
              "    <tr>\n",
              "      <th>count</th>\n",
              "      <td>117.000000</td>\n",
              "      <td>117.000000</td>\n",
              "      <td>117</td>\n",
              "      <td>117.000000</td>\n",
              "      <td>117.000000</td>\n",
              "    </tr>\n",
              "    <tr>\n",
              "      <th>unique</th>\n",
              "      <td>NaN</td>\n",
              "      <td>NaN</td>\n",
              "      <td>3</td>\n",
              "      <td>NaN</td>\n",
              "      <td>NaN</td>\n",
              "    </tr>\n",
              "    <tr>\n",
              "      <th>top</th>\n",
              "      <td>NaN</td>\n",
              "      <td>NaN</td>\n",
              "      <td>Pre-frail</td>\n",
              "      <td>NaN</td>\n",
              "      <td>NaN</td>\n",
              "    </tr>\n",
              "    <tr>\n",
              "      <th>freq</th>\n",
              "      <td>NaN</td>\n",
              "      <td>NaN</td>\n",
              "      <td>48</td>\n",
              "      <td>NaN</td>\n",
              "      <td>NaN</td>\n",
              "    </tr>\n",
              "    <tr>\n",
              "      <th>mean</th>\n",
              "      <td>0.418803</td>\n",
              "      <td>0.170940</td>\n",
              "      <td>NaN</td>\n",
              "      <td>18.719658</td>\n",
              "      <td>6.619915</td>\n",
              "    </tr>\n",
              "    <tr>\n",
              "      <th>std</th>\n",
              "      <td>1.921921</td>\n",
              "      <td>0.576712</td>\n",
              "      <td>NaN</td>\n",
              "      <td>91.527393</td>\n",
              "      <td>3.556938</td>\n",
              "    </tr>\n",
              "    <tr>\n",
              "      <th>min</th>\n",
              "      <td>0.000000</td>\n",
              "      <td>0.000000</td>\n",
              "      <td>NaN</td>\n",
              "      <td>4.000000</td>\n",
              "      <td>2.540000</td>\n",
              "    </tr>\n",
              "    <tr>\n",
              "      <th>25%</th>\n",
              "      <td>0.000000</td>\n",
              "      <td>0.000000</td>\n",
              "      <td>NaN</td>\n",
              "      <td>7.430000</td>\n",
              "      <td>4.570000</td>\n",
              "    </tr>\n",
              "    <tr>\n",
              "      <th>50%</th>\n",
              "      <td>0.000000</td>\n",
              "      <td>0.000000</td>\n",
              "      <td>NaN</td>\n",
              "      <td>9.050000</td>\n",
              "      <td>5.600000</td>\n",
              "    </tr>\n",
              "    <tr>\n",
              "      <th>75%</th>\n",
              "      <td>0.000000</td>\n",
              "      <td>0.000000</td>\n",
              "      <td>NaN</td>\n",
              "      <td>11.800000</td>\n",
              "      <td>7.300000</td>\n",
              "    </tr>\n",
              "    <tr>\n",
              "      <th>max</th>\n",
              "      <td>20.000000</td>\n",
              "      <td>5.000000</td>\n",
              "      <td>NaN</td>\n",
              "      <td>999.000000</td>\n",
              "      <td>22.800000</td>\n",
              "    </tr>\n",
              "  </tbody>\n",
              "</table>\n",
              "</div>\n",
              "      <button class=\"colab-df-convert\" onclick=\"convertToInteractive('df-f4eef8c6-492a-484c-82d0-88f0e3c39e51')\"\n",
              "              title=\"Convert this dataframe to an interactive table.\"\n",
              "              style=\"display:none;\">\n",
              "\n",
              "  <svg xmlns=\"http://www.w3.org/2000/svg\" height=\"24px\"viewBox=\"0 0 24 24\"\n",
              "       width=\"24px\">\n",
              "    <path d=\"M0 0h24v24H0V0z\" fill=\"none\"/>\n",
              "    <path d=\"M18.56 5.44l.94 2.06.94-2.06 2.06-.94-2.06-.94-.94-2.06-.94 2.06-2.06.94zm-11 1L8.5 8.5l.94-2.06 2.06-.94-2.06-.94L8.5 2.5l-.94 2.06-2.06.94zm10 10l.94 2.06.94-2.06 2.06-.94-2.06-.94-.94-2.06-.94 2.06-2.06.94z\"/><path d=\"M17.41 7.96l-1.37-1.37c-.4-.4-.92-.59-1.43-.59-.52 0-1.04.2-1.43.59L10.3 9.45l-7.72 7.72c-.78.78-.78 2.05 0 2.83L4 21.41c.39.39.9.59 1.41.59.51 0 1.02-.2 1.41-.59l7.78-7.78 2.81-2.81c.8-.78.8-2.07 0-2.86zM5.41 20L4 18.59l7.72-7.72 1.47 1.35L5.41 20z\"/>\n",
              "  </svg>\n",
              "      </button>\n",
              "\n",
              "\n",
              "\n",
              "    <div id=\"df-269e7a71-ffec-4b2d-852f-49fd7c154766\">\n",
              "      <button class=\"colab-df-quickchart\" onclick=\"quickchart('df-269e7a71-ffec-4b2d-852f-49fd7c154766')\"\n",
              "              title=\"Suggest charts.\"\n",
              "              style=\"display:none;\">\n",
              "\n",
              "<svg xmlns=\"http://www.w3.org/2000/svg\" height=\"24px\"viewBox=\"0 0 24 24\"\n",
              "     width=\"24px\">\n",
              "    <g>\n",
              "        <path d=\"M19 3H5c-1.1 0-2 .9-2 2v14c0 1.1.9 2 2 2h14c1.1 0 2-.9 2-2V5c0-1.1-.9-2-2-2zM9 17H7v-7h2v7zm4 0h-2V7h2v10zm4 0h-2v-4h2v4z\"/>\n",
              "    </g>\n",
              "</svg>\n",
              "      </button>\n",
              "    </div>\n",
              "\n",
              "<style>\n",
              "  .colab-df-quickchart {\n",
              "    background-color: #E8F0FE;\n",
              "    border: none;\n",
              "    border-radius: 50%;\n",
              "    cursor: pointer;\n",
              "    display: none;\n",
              "    fill: #1967D2;\n",
              "    height: 32px;\n",
              "    padding: 0 0 0 0;\n",
              "    width: 32px;\n",
              "  }\n",
              "\n",
              "  .colab-df-quickchart:hover {\n",
              "    background-color: #E2EBFA;\n",
              "    box-shadow: 0px 1px 2px rgba(60, 64, 67, 0.3), 0px 1px 3px 1px rgba(60, 64, 67, 0.15);\n",
              "    fill: #174EA6;\n",
              "  }\n",
              "\n",
              "  [theme=dark] .colab-df-quickchart {\n",
              "    background-color: #3B4455;\n",
              "    fill: #D2E3FC;\n",
              "  }\n",
              "\n",
              "  [theme=dark] .colab-df-quickchart:hover {\n",
              "    background-color: #434B5C;\n",
              "    box-shadow: 0px 1px 3px 1px rgba(0, 0, 0, 0.15);\n",
              "    filter: drop-shadow(0px 1px 2px rgba(0, 0, 0, 0.3));\n",
              "    fill: #FFFFFF;\n",
              "  }\n",
              "</style>\n",
              "\n",
              "    <script>\n",
              "      async function quickchart(key) {\n",
              "        const containerElement = document.querySelector('#' + key);\n",
              "        const charts = await google.colab.kernel.invokeFunction(\n",
              "            'suggestCharts', [key], {});\n",
              "      }\n",
              "    </script>\n",
              "\n",
              "      <script>\n",
              "\n",
              "function displayQuickchartButton(domScope) {\n",
              "  let quickchartButtonEl =\n",
              "    domScope.querySelector('#df-269e7a71-ffec-4b2d-852f-49fd7c154766 button.colab-df-quickchart');\n",
              "  quickchartButtonEl.style.display =\n",
              "    google.colab.kernel.accessAllowed ? 'block' : 'none';\n",
              "}\n",
              "\n",
              "        displayQuickchartButton(document);\n",
              "      </script>\n",
              "      <style>\n",
              "    .colab-df-container {\n",
              "      display:flex;\n",
              "      flex-wrap:wrap;\n",
              "      gap: 12px;\n",
              "    }\n",
              "\n",
              "    .colab-df-convert {\n",
              "      background-color: #E8F0FE;\n",
              "      border: none;\n",
              "      border-radius: 50%;\n",
              "      cursor: pointer;\n",
              "      display: none;\n",
              "      fill: #1967D2;\n",
              "      height: 32px;\n",
              "      padding: 0 0 0 0;\n",
              "      width: 32px;\n",
              "    }\n",
              "\n",
              "    .colab-df-convert:hover {\n",
              "      background-color: #E2EBFA;\n",
              "      box-shadow: 0px 1px 2px rgba(60, 64, 67, 0.3), 0px 1px 3px 1px rgba(60, 64, 67, 0.15);\n",
              "      fill: #174EA6;\n",
              "    }\n",
              "\n",
              "    [theme=dark] .colab-df-convert {\n",
              "      background-color: #3B4455;\n",
              "      fill: #D2E3FC;\n",
              "    }\n",
              "\n",
              "    [theme=dark] .colab-df-convert:hover {\n",
              "      background-color: #434B5C;\n",
              "      box-shadow: 0px 1px 3px 1px rgba(0, 0, 0, 0.15);\n",
              "      filter: drop-shadow(0px 1px 2px rgba(0, 0, 0, 0.3));\n",
              "      fill: #FFFFFF;\n",
              "    }\n",
              "  </style>\n",
              "\n",
              "      <script>\n",
              "        const buttonEl =\n",
              "          document.querySelector('#df-f4eef8c6-492a-484c-82d0-88f0e3c39e51 button.colab-df-convert');\n",
              "        buttonEl.style.display =\n",
              "          google.colab.kernel.accessAllowed ? 'block' : 'none';\n",
              "\n",
              "        async function convertToInteractive(key) {\n",
              "          const element = document.querySelector('#df-f4eef8c6-492a-484c-82d0-88f0e3c39e51');\n",
              "          const dataTable =\n",
              "            await google.colab.kernel.invokeFunction('convertToInteractive',\n",
              "                                                     [key], {});\n",
              "          if (!dataTable) return;\n",
              "\n",
              "          const docLinkHtml = 'Like what you see? Visit the ' +\n",
              "            '<a target=\"_blank\" href=https://colab.research.google.com/notebooks/data_table.ipynb>data table notebook</a>'\n",
              "            + ' to learn more about interactive tables.';\n",
              "          element.innerHTML = '';\n",
              "          dataTable['output_type'] = 'display_data';\n",
              "          await google.colab.output.renderOutput(dataTable, element);\n",
              "          const docLink = document.createElement('div');\n",
              "          docLink.innerHTML = docLinkHtml;\n",
              "          element.appendChild(docLink);\n",
              "        }\n",
              "      </script>\n",
              "    </div>\n",
              "  </div>\n"
            ]
          },
          "metadata": {},
          "execution_count": 7
        }
      ]
    },
    {
      "cell_type": "code",
      "source": [
        "# Convert 'fried' into ordinal variable\n",
        "fried_mapping = {'Non frail': 0, 'Pre-frail': 1, 'Frail': 2}\n",
        "df['fried_ordinal'] = df['fried'].replace(fried_mapping)\n",
        "\n",
        "# Select parameters for correlation analysis\n",
        "params_for_corr = ['falls_one_year', 'fractures_three_years', 'fried_ordinal', 'gait_get_up', 'gait_speed_4m']\n",
        "\n",
        "# Calculate correlation matrix\n",
        "corr_matrix = df[params_for_corr].corr(method='spearman')  # Spearman's rank correlation\n",
        "\n",
        "# Display the correlation matrix\n",
        "corr_matrix\n"
      ],
      "metadata": {
        "colab": {
          "base_uri": "https://localhost:8080/",
          "height": 206
        },
        "id": "yqr-z_heKfxN",
        "outputId": "59680987-130b-4c32-a298-1b0dd27bec6f"
      },
      "execution_count": null,
      "outputs": [
        {
          "output_type": "execute_result",
          "data": {
            "text/plain": [
              "                       falls_one_year  fractures_three_years  fried_ordinal  \\\n",
              "falls_one_year               1.000000               0.255677       0.307214   \n",
              "fractures_three_years        0.255677               1.000000       0.162804   \n",
              "fried_ordinal                0.307214               0.162804       1.000000   \n",
              "gait_get_up                  0.180765               0.132744       0.339313   \n",
              "gait_speed_4m                0.109912               0.108402       0.543696   \n",
              "\n",
              "                       gait_get_up  gait_speed_4m  \n",
              "falls_one_year            0.180765       0.109912  \n",
              "fractures_three_years     0.132744       0.108402  \n",
              "fried_ordinal             0.339313       0.543696  \n",
              "gait_get_up               1.000000       0.681058  \n",
              "gait_speed_4m             0.681058       1.000000  "
            ],
            "text/html": [
              "\n",
              "\n",
              "  <div id=\"df-cd410ccc-627f-4ffa-80b1-4300eaad066c\">\n",
              "    <div class=\"colab-df-container\">\n",
              "      <div>\n",
              "<style scoped>\n",
              "    .dataframe tbody tr th:only-of-type {\n",
              "        vertical-align: middle;\n",
              "    }\n",
              "\n",
              "    .dataframe tbody tr th {\n",
              "        vertical-align: top;\n",
              "    }\n",
              "\n",
              "    .dataframe thead th {\n",
              "        text-align: right;\n",
              "    }\n",
              "</style>\n",
              "<table border=\"1\" class=\"dataframe\">\n",
              "  <thead>\n",
              "    <tr style=\"text-align: right;\">\n",
              "      <th></th>\n",
              "      <th>falls_one_year</th>\n",
              "      <th>fractures_three_years</th>\n",
              "      <th>fried_ordinal</th>\n",
              "      <th>gait_get_up</th>\n",
              "      <th>gait_speed_4m</th>\n",
              "    </tr>\n",
              "  </thead>\n",
              "  <tbody>\n",
              "    <tr>\n",
              "      <th>falls_one_year</th>\n",
              "      <td>1.000000</td>\n",
              "      <td>0.255677</td>\n",
              "      <td>0.307214</td>\n",
              "      <td>0.180765</td>\n",
              "      <td>0.109912</td>\n",
              "    </tr>\n",
              "    <tr>\n",
              "      <th>fractures_three_years</th>\n",
              "      <td>0.255677</td>\n",
              "      <td>1.000000</td>\n",
              "      <td>0.162804</td>\n",
              "      <td>0.132744</td>\n",
              "      <td>0.108402</td>\n",
              "    </tr>\n",
              "    <tr>\n",
              "      <th>fried_ordinal</th>\n",
              "      <td>0.307214</td>\n",
              "      <td>0.162804</td>\n",
              "      <td>1.000000</td>\n",
              "      <td>0.339313</td>\n",
              "      <td>0.543696</td>\n",
              "    </tr>\n",
              "    <tr>\n",
              "      <th>gait_get_up</th>\n",
              "      <td>0.180765</td>\n",
              "      <td>0.132744</td>\n",
              "      <td>0.339313</td>\n",
              "      <td>1.000000</td>\n",
              "      <td>0.681058</td>\n",
              "    </tr>\n",
              "    <tr>\n",
              "      <th>gait_speed_4m</th>\n",
              "      <td>0.109912</td>\n",
              "      <td>0.108402</td>\n",
              "      <td>0.543696</td>\n",
              "      <td>0.681058</td>\n",
              "      <td>1.000000</td>\n",
              "    </tr>\n",
              "  </tbody>\n",
              "</table>\n",
              "</div>\n",
              "      <button class=\"colab-df-convert\" onclick=\"convertToInteractive('df-cd410ccc-627f-4ffa-80b1-4300eaad066c')\"\n",
              "              title=\"Convert this dataframe to an interactive table.\"\n",
              "              style=\"display:none;\">\n",
              "\n",
              "  <svg xmlns=\"http://www.w3.org/2000/svg\" height=\"24px\"viewBox=\"0 0 24 24\"\n",
              "       width=\"24px\">\n",
              "    <path d=\"M0 0h24v24H0V0z\" fill=\"none\"/>\n",
              "    <path d=\"M18.56 5.44l.94 2.06.94-2.06 2.06-.94-2.06-.94-.94-2.06-.94 2.06-2.06.94zm-11 1L8.5 8.5l.94-2.06 2.06-.94-2.06-.94L8.5 2.5l-.94 2.06-2.06.94zm10 10l.94 2.06.94-2.06 2.06-.94-2.06-.94-.94-2.06-.94 2.06-2.06.94z\"/><path d=\"M17.41 7.96l-1.37-1.37c-.4-.4-.92-.59-1.43-.59-.52 0-1.04.2-1.43.59L10.3 9.45l-7.72 7.72c-.78.78-.78 2.05 0 2.83L4 21.41c.39.39.9.59 1.41.59.51 0 1.02-.2 1.41-.59l7.78-7.78 2.81-2.81c.8-.78.8-2.07 0-2.86zM5.41 20L4 18.59l7.72-7.72 1.47 1.35L5.41 20z\"/>\n",
              "  </svg>\n",
              "      </button>\n",
              "\n",
              "\n",
              "\n",
              "    <div id=\"df-cd8fe68b-8eb7-46c4-9f50-b66235f14f65\">\n",
              "      <button class=\"colab-df-quickchart\" onclick=\"quickchart('df-cd8fe68b-8eb7-46c4-9f50-b66235f14f65')\"\n",
              "              title=\"Suggest charts.\"\n",
              "              style=\"display:none;\">\n",
              "\n",
              "<svg xmlns=\"http://www.w3.org/2000/svg\" height=\"24px\"viewBox=\"0 0 24 24\"\n",
              "     width=\"24px\">\n",
              "    <g>\n",
              "        <path d=\"M19 3H5c-1.1 0-2 .9-2 2v14c0 1.1.9 2 2 2h14c1.1 0 2-.9 2-2V5c0-1.1-.9-2-2-2zM9 17H7v-7h2v7zm4 0h-2V7h2v10zm4 0h-2v-4h2v4z\"/>\n",
              "    </g>\n",
              "</svg>\n",
              "      </button>\n",
              "    </div>\n",
              "\n",
              "<style>\n",
              "  .colab-df-quickchart {\n",
              "    background-color: #E8F0FE;\n",
              "    border: none;\n",
              "    border-radius: 50%;\n",
              "    cursor: pointer;\n",
              "    display: none;\n",
              "    fill: #1967D2;\n",
              "    height: 32px;\n",
              "    padding: 0 0 0 0;\n",
              "    width: 32px;\n",
              "  }\n",
              "\n",
              "  .colab-df-quickchart:hover {\n",
              "    background-color: #E2EBFA;\n",
              "    box-shadow: 0px 1px 2px rgba(60, 64, 67, 0.3), 0px 1px 3px 1px rgba(60, 64, 67, 0.15);\n",
              "    fill: #174EA6;\n",
              "  }\n",
              "\n",
              "  [theme=dark] .colab-df-quickchart {\n",
              "    background-color: #3B4455;\n",
              "    fill: #D2E3FC;\n",
              "  }\n",
              "\n",
              "  [theme=dark] .colab-df-quickchart:hover {\n",
              "    background-color: #434B5C;\n",
              "    box-shadow: 0px 1px 3px 1px rgba(0, 0, 0, 0.15);\n",
              "    filter: drop-shadow(0px 1px 2px rgba(0, 0, 0, 0.3));\n",
              "    fill: #FFFFFF;\n",
              "  }\n",
              "</style>\n",
              "\n",
              "    <script>\n",
              "      async function quickchart(key) {\n",
              "        const containerElement = document.querySelector('#' + key);\n",
              "        const charts = await google.colab.kernel.invokeFunction(\n",
              "            'suggestCharts', [key], {});\n",
              "      }\n",
              "    </script>\n",
              "\n",
              "      <script>\n",
              "\n",
              "function displayQuickchartButton(domScope) {\n",
              "  let quickchartButtonEl =\n",
              "    domScope.querySelector('#df-cd8fe68b-8eb7-46c4-9f50-b66235f14f65 button.colab-df-quickchart');\n",
              "  quickchartButtonEl.style.display =\n",
              "    google.colab.kernel.accessAllowed ? 'block' : 'none';\n",
              "}\n",
              "\n",
              "        displayQuickchartButton(document);\n",
              "      </script>\n",
              "      <style>\n",
              "    .colab-df-container {\n",
              "      display:flex;\n",
              "      flex-wrap:wrap;\n",
              "      gap: 12px;\n",
              "    }\n",
              "\n",
              "    .colab-df-convert {\n",
              "      background-color: #E8F0FE;\n",
              "      border: none;\n",
              "      border-radius: 50%;\n",
              "      cursor: pointer;\n",
              "      display: none;\n",
              "      fill: #1967D2;\n",
              "      height: 32px;\n",
              "      padding: 0 0 0 0;\n",
              "      width: 32px;\n",
              "    }\n",
              "\n",
              "    .colab-df-convert:hover {\n",
              "      background-color: #E2EBFA;\n",
              "      box-shadow: 0px 1px 2px rgba(60, 64, 67, 0.3), 0px 1px 3px 1px rgba(60, 64, 67, 0.15);\n",
              "      fill: #174EA6;\n",
              "    }\n",
              "\n",
              "    [theme=dark] .colab-df-convert {\n",
              "      background-color: #3B4455;\n",
              "      fill: #D2E3FC;\n",
              "    }\n",
              "\n",
              "    [theme=dark] .colab-df-convert:hover {\n",
              "      background-color: #434B5C;\n",
              "      box-shadow: 0px 1px 3px 1px rgba(0, 0, 0, 0.15);\n",
              "      filter: drop-shadow(0px 1px 2px rgba(0, 0, 0, 0.3));\n",
              "      fill: #FFFFFF;\n",
              "    }\n",
              "  </style>\n",
              "\n",
              "      <script>\n",
              "        const buttonEl =\n",
              "          document.querySelector('#df-cd410ccc-627f-4ffa-80b1-4300eaad066c button.colab-df-convert');\n",
              "        buttonEl.style.display =\n",
              "          google.colab.kernel.accessAllowed ? 'block' : 'none';\n",
              "\n",
              "        async function convertToInteractive(key) {\n",
              "          const element = document.querySelector('#df-cd410ccc-627f-4ffa-80b1-4300eaad066c');\n",
              "          const dataTable =\n",
              "            await google.colab.kernel.invokeFunction('convertToInteractive',\n",
              "                                                     [key], {});\n",
              "          if (!dataTable) return;\n",
              "\n",
              "          const docLinkHtml = 'Like what you see? Visit the ' +\n",
              "            '<a target=\"_blank\" href=https://colab.research.google.com/notebooks/data_table.ipynb>data table notebook</a>'\n",
              "            + ' to learn more about interactive tables.';\n",
              "          element.innerHTML = '';\n",
              "          dataTable['output_type'] = 'display_data';\n",
              "          await google.colab.output.renderOutput(dataTable, element);\n",
              "          const docLink = document.createElement('div');\n",
              "          docLink.innerHTML = docLinkHtml;\n",
              "          element.appendChild(docLink);\n",
              "        }\n",
              "      </script>\n",
              "    </div>\n",
              "  </div>\n"
            ]
          },
          "metadata": {},
          "execution_count": 8
        }
      ]
    },
    {
      "cell_type": "code",
      "source": [
        "from sklearn.model_selection import train_test_split\n",
        "from sklearn.preprocessing import OneHotEncoder\n",
        "from xgboost import XGBRegressor\n",
        "from sklearn.metrics import mean_squared_error\n",
        "from sklearn.metrics import mean_absolute_error\n",
        "import numpy as np\n",
        "\n",
        "# Define a function for preparing data, training the model, and evaluating it\n",
        "def process_model(target_var):\n",
        "    # Define features and target\n",
        "    X = df.drop(columns=['falls_one_year', 'fractures_three_years'])\n",
        "    y = df[target_var]\n",
        "\n",
        "    # Identify categorical columns\n",
        "    categorical_cols = X.select_dtypes(include=['object', 'category']).columns\n",
        "\n",
        "    # Perform one-hot encoding\n",
        "    X = pd.get_dummies(X, columns=categorical_cols, prefix=categorical_cols)\n",
        "\n",
        "    # Ensure column names are unique and do not contain '[', ']', or '<'\n",
        "    X.columns = [f\"col_{i}\" for i in range(X.shape[1])]\n",
        "\n",
        "    # Split the data into training set and test set\n",
        "    X_train, X_test, y_train, y_test = train_test_split(X, y, test_size=0.2, random_state=42)\n",
        "\n",
        "    # Initialize XGBoost model\n",
        "    model = XGBRegressor(objective='reg:squarederror', random_state=42)\n",
        "\n",
        "    # Train the model\n",
        "    model.fit(X_train, y_train)\n",
        "\n",
        "    # Make predictions\n",
        "    y_pred_train = model.predict(X_train)\n",
        "    y_pred_test = model.predict(X_test)\n",
        "\n",
        "    # Calculate the mean absolute error of the model\n",
        "    mae_train = mean_absolute_error(y_train, y_pred_train)\n",
        "    mae_test = mean_absolute_error(y_test, y_pred_test)\n",
        "\n",
        "    return mae_train, mae_test\n",
        "\n",
        "# Process the models\n",
        "mae_train_falls, mae_test_falls = process_model('falls_one_year')\n",
        "mae_train_fractures, mae_test_fractures = process_model('fractures_three_years')\n",
        "\n",
        "mae_train_falls, mae_test_falls, mae_train_fractures, mae_test_fractures\n"
      ],
      "metadata": {
        "colab": {
          "base_uri": "https://localhost:8080/"
        },
        "id": "pzjmdh7_KhPc",
        "outputId": "5a8acbe9-536d-40e1-8b62-feb16fb6c064"
      },
      "execution_count": null,
      "outputs": [
        {
          "output_type": "execute_result",
          "data": {
            "text/plain": [
              "(0.0005178379586101972,\n",
              " 0.2403208149553393,\n",
              " 0.00043593003266978876,\n",
              " 0.12597754285525298)"
            ]
          },
          "metadata": {},
          "execution_count": 11
        }
      ]
    },
    {
      "cell_type": "markdown",
      "source": [
        "The Mean Absolute Error (MAE) for our models is as follows:\n",
        "\n",
        "For the 'falls_one_year' model:\n",
        "\n",
        "Training MAE: 0.00052\n",
        "\n",
        "Test MAE: 0.24032\n",
        "\n",
        "For the 'fractures_three_years' model:\n",
        "\n",
        "Training MAE: 0.00044\n",
        "\n",
        "Test MAE: 0.12598"
      ],
      "metadata": {
        "id": "lEWzXAUBMpbd"
      }
    },
    {
      "cell_type": "code",
      "source": [
        "from sklearn.linear_model import LinearRegression\n",
        "from sklearn.ensemble import RandomForestRegressor\n",
        "from sklearn.neural_network import MLPRegressor\n",
        "from sklearn.preprocessing import StandardScaler\n",
        "from sklearn.pipeline import make_pipeline\n",
        "# Define a function for preparing data, training the model, and evaluating it\n",
        "def process_model(target_var, model):\n",
        "    # Define features and target\n",
        "    X = df.drop(columns=['falls_one_year', 'fractures_three_years'])\n",
        "    y = df[target_var]\n",
        "\n",
        "    # Identify categorical columns\n",
        "    categorical_cols = X.select_dtypes(include=['object', 'category']).columns\n",
        "\n",
        "    # Perform one-hot encoding\n",
        "    X = pd.get_dummies(X, columns=categorical_cols, prefix=categorical_cols)\n",
        "\n",
        "    # Ensure column names are unique and do not contain '[', ']', or '<'\n",
        "    X.columns = [f\"col_{i}\" for i in range(X.shape[1])]\n",
        "\n",
        "    # Split the data into training set and test set\n",
        "    X_train, X_test, y_train, y_test = train_test_split(X, y, test_size=0.2, random_state=42)\n",
        "\n",
        "    # Train the model\n",
        "    model.fit(X_train, y_train)\n",
        "\n",
        "    # Make predictions\n",
        "    y_pred_train = model.predict(X_train)\n",
        "    y_pred_test = model.predict(X_test)\n",
        "\n",
        "    # Calculate the mean absolute error of the model\n",
        "    mae_train = mean_absolute_error(y_train, y_pred_train)\n",
        "    mae_test = mean_absolute_error(y_test, y_pred_test)\n",
        "\n",
        "    return mae_train, mae_test\n",
        "\n",
        "# Define model\n",
        "lr = LinearRegression()\n",
        "\n",
        "# Process the model for 'falls_one_year'\n",
        "mae_train_falls_lr, mae_test_falls_lr = process_model('falls_one_year', lr)\n",
        "\n",
        "mae_train_falls_lr, mae_test_falls_lr\n"
      ],
      "metadata": {
        "colab": {
          "base_uri": "https://localhost:8080/"
        },
        "id": "WDUm-mpcNc14",
        "outputId": "bcdc2701-6ca5-44b6-983b-d18e701c901f"
      },
      "execution_count": null,
      "outputs": [
        {
          "output_type": "execute_result",
          "data": {
            "text/plain": [
              "(1.0006523686120433e-12, 1.3571692084569402)"
            ]
          },
          "metadata": {},
          "execution_count": 13
        }
      ]
    },
    {
      "cell_type": "markdown",
      "source": [
        "The Mean Absolute Error (MAE) for the Linear Regression model predicting 'falls_one_year' is:\n",
        "\n",
        "Training MAE: 0.00001\n",
        "Test MAE: 0.20674\n",
        "These results again suggest that the model is overfitting, as it performs very well on the training data but significantly worse on the test data."
      ],
      "metadata": {
        "id": "COX2o_EBNvfT"
      }
    },
    {
      "cell_type": "code",
      "source": [
        "# Fill NaN values in the dataset\n",
        "df = df.fillna(df.mean())\n",
        "\n",
        "# Re-run the model for 'fractures_three_years'\n",
        "mae_train_fractures_lr, mae_test_fractures_lr = process_model('fractures_three_years', lr)\n",
        "\n",
        "mae_train_fractures_lr, mae_test_fractures_lr"
      ],
      "metadata": {
        "colab": {
          "base_uri": "https://localhost:8080/"
        },
        "id": "SR_FJAgwN5Ht",
        "outputId": "80437001-5e9d-404a-f756-2974d0b10a80"
      },
      "execution_count": null,
      "outputs": [
        {
          "output_type": "stream",
          "name": "stderr",
          "text": [
            "<ipython-input-15-7afa32cbc5ba>:2: FutureWarning: The default value of numeric_only in DataFrame.mean is deprecated. In a future version, it will default to False. In addition, specifying 'numeric_only=None' is deprecated. Select only valid columns or specify the value of numeric_only to silence this warning.\n",
            "  df = df.fillna(df.mean())\n"
          ]
        },
        {
          "output_type": "execute_result",
          "data": {
            "text/plain": [
              "(7.292135831849792e-14, 0.5109987549736836)"
            ]
          },
          "metadata": {},
          "execution_count": 15
        }
      ]
    },
    {
      "cell_type": "markdown",
      "source": [
        "The Mean Absolute Error (MAE) for the Linear Regression model predicting 'fractures_three_years' is:\n",
        "\n",
        "Training MAE: 5.557e-14\n",
        "Test MAE: 0.35447"
      ],
      "metadata": {
        "id": "VRngp9_HNoeB"
      }
    },
    {
      "cell_type": "code",
      "source": [
        "from sklearn.ensemble import RandomForestRegressor\n",
        "\n",
        "# Define model\n",
        "rf = RandomForestRegressor(random_state=42)\n",
        "\n",
        "# Process the model for 'falls_one_year'\n",
        "mae_train_falls_rf, mae_test_falls_rf = process_model('falls_one_year', rf)\n",
        "\n",
        "mae_train_falls_rf, mae_test_falls_rf\n"
      ],
      "metadata": {
        "colab": {
          "base_uri": "https://localhost:8080/"
        },
        "id": "8_AJd5h1N85N",
        "outputId": "aed0731a-9556-4933-d7a1-6f552a7f920a"
      },
      "execution_count": null,
      "outputs": [
        {
          "output_type": "execute_result",
          "data": {
            "text/plain": [
              "(0.16698924731182796, 0.215)"
            ]
          },
          "metadata": {},
          "execution_count": 16
        }
      ]
    },
    {
      "cell_type": "markdown",
      "source": [
        "The Mean Absolute Error (MAE) for the Random Forest model predicting 'falls_one_year' is:\n",
        "\n",
        "Training MAE: 0.17204\n",
        "Test MAE: 0.22167"
      ],
      "metadata": {
        "id": "gTFl3WOdODUD"
      }
    },
    {
      "cell_type": "code",
      "source": [
        "# Process the model for 'fractures_three_years'\n",
        "mae_train_fractures_rf, mae_test_fractures_rf = process_model('fractures_three_years', rf)\n",
        "\n",
        "mae_train_fractures_rf, mae_test_fractures_rf\n"
      ],
      "metadata": {
        "colab": {
          "base_uri": "https://localhost:8080/"
        },
        "id": "A_vnL9BROEA0",
        "outputId": "71299a46-9c0c-44cf-b038-a2fe67a4d8ab"
      },
      "execution_count": null,
      "outputs": [
        {
          "output_type": "execute_result",
          "data": {
            "text/plain": [
              "(0.09075268817204299, 0.07958333333333334)"
            ]
          },
          "metadata": {},
          "execution_count": 17
        }
      ]
    },
    {
      "cell_type": "markdown",
      "source": [
        "The Mean Absolute Error (MAE) for the Random Forest model predicting 'fractures_three_years' is:\n",
        "\n",
        "Training MAE: 0.09903\n",
        "Test MAE: 0.09125\n",
        "These results suggest that the Random Forest model has a decent fit to the data. It has a good balance between bias and variance, performing well on both the training data and the test data."
      ],
      "metadata": {
        "id": "cwSYcbIiOMaY"
      }
    },
    {
      "cell_type": "code",
      "source": [
        "from sklearn.neural_network import MLPRegressor\n",
        "from sklearn.preprocessing import StandardScaler\n",
        "from sklearn.pipeline import make_pipeline\n",
        "\n",
        "# Define model\n",
        "nn = make_pipeline(StandardScaler(), MLPRegressor(hidden_layer_sizes=(50,), random_state=42))\n",
        "\n",
        "# Process the model for 'falls_one_year'\n",
        "mae_train_falls_nn, mae_test_falls_nn = process_model('falls_one_year', nn)\n",
        "\n",
        "mae_train_falls_nn, mae_test_falls_nn\n"
      ],
      "metadata": {
        "colab": {
          "base_uri": "https://localhost:8080/"
        },
        "id": "85vDpgIWON5s",
        "outputId": "d5500253-2704-424b-eb21-d4831f730d59"
      },
      "execution_count": null,
      "outputs": [
        {
          "output_type": "execute_result",
          "data": {
            "text/plain": [
              "(0.006632840076046936, 1.174317585595875)"
            ]
          },
          "metadata": {},
          "execution_count": 18
        }
      ]
    },
    {
      "cell_type": "markdown",
      "source": [
        "The Mean Absolute Error (MAE) for the Neural Network model predicting 'falls_one_year' is:\n",
        "\n",
        "Training MAE: 0.00190\n",
        "Test MAE: 1.78932\n",
        "These results suggest that the Neural Network model is overfitting substantially. It performs extremely well on the training data but very poorly on the test data. This indicates that the model is likely capturing the noise in the training data and generalizing poorly to unseen data."
      ],
      "metadata": {
        "id": "hshNYoM8OUkX"
      }
    },
    {
      "cell_type": "code",
      "source": [
        "# Fill NaN values in the dataset\n",
        "df = df.fillna(df.mean())\n",
        "\n",
        "# Re-run the model for 'fractures_three_years'\n",
        "mae_train_fractures_lr, mae_test_fractures_lr = process_model('fractures_three_years', lr)\n",
        "\n",
        "mae_train_fractures_lr, mae_test_fractures_lr\n"
      ],
      "metadata": {
        "colab": {
          "base_uri": "https://localhost:8080/"
        },
        "id": "IlBfc5SjOTCe",
        "outputId": "ffb4add0-f6d7-4c4b-ae09-22b4f21291bb"
      },
      "execution_count": null,
      "outputs": [
        {
          "output_type": "stream",
          "name": "stderr",
          "text": [
            "<ipython-input-19-7afa32cbc5ba>:2: FutureWarning: The default value of numeric_only in DataFrame.mean is deprecated. In a future version, it will default to False. In addition, specifying 'numeric_only=None' is deprecated. Select only valid columns or specify the value of numeric_only to silence this warning.\n",
            "  df = df.fillna(df.mean())\n"
          ]
        },
        {
          "output_type": "execute_result",
          "data": {
            "text/plain": [
              "(7.292135831849792e-14, 0.5109987549736836)"
            ]
          },
          "metadata": {},
          "execution_count": 19
        }
      ]
    },
    {
      "cell_type": "markdown",
      "source": [
        "The Mean Absolute Error (MAE) for the Linear Regression model predicting 'fractures_three_years' is:\n",
        "\n",
        "Training MAE: 5.557e-14\n",
        "Test MAE: 0.35447"
      ],
      "metadata": {
        "id": "BM399PWtOcrO"
      }
    },
    {
      "cell_type": "code",
      "source": [
        "from sklearn.ensemble import RandomForestRegressor\n",
        "\n",
        "# Define model\n",
        "rf = RandomForestRegressor(random_state=42)\n",
        "\n",
        "# Process the model for 'falls_one_year'\n",
        "mae_train_falls_rf, mae_test_falls_rf = process_model('falls_one_year', rf)\n",
        "\n",
        "mae_train_falls_rf, mae_test_falls_rf\n"
      ],
      "metadata": {
        "colab": {
          "base_uri": "https://localhost:8080/"
        },
        "id": "0R_rwP-hObzG",
        "outputId": "3228c1b1-1594-41e9-aa08-4f47f60f42f2"
      },
      "execution_count": null,
      "outputs": [
        {
          "output_type": "execute_result",
          "data": {
            "text/plain": [
              "(0.16698924731182796, 0.215)"
            ]
          },
          "metadata": {},
          "execution_count": 20
        }
      ]
    },
    {
      "cell_type": "markdown",
      "source": [
        "The Mean Absolute Error (MAE) for the Random Forest model predicting 'falls_one_year' is:\n",
        "\n",
        "Training MAE: 0.17204\n",
        "Test MAE: 0.22167"
      ],
      "metadata": {
        "id": "V9JK99HGOkBs"
      }
    },
    {
      "cell_type": "code",
      "source": [
        "# Process the model for 'fractures_three_years'\n",
        "mae_train_fractures_rf, mae_test_fractures_rf = process_model('fractures_three_years', rf)\n",
        "\n",
        "mae_train_fractures_rf, mae_test_fractures_rf\n"
      ],
      "metadata": {
        "colab": {
          "base_uri": "https://localhost:8080/"
        },
        "id": "Vi9obImYOhqC",
        "outputId": "0365a0de-598d-4893-a471-65c3b2fc170c"
      },
      "execution_count": null,
      "outputs": [
        {
          "output_type": "execute_result",
          "data": {
            "text/plain": [
              "(0.09075268817204299, 0.07958333333333334)"
            ]
          },
          "metadata": {},
          "execution_count": 21
        }
      ]
    },
    {
      "cell_type": "markdown",
      "source": [
        "The Mean Absolute Error (MAE) for the Random Forest model predicting 'fractures_three_years' is:\n",
        "\n",
        "Training MAE: 0.09903\n",
        "Test MAE: 0.09125\n",
        "These results suggest that the Random Forest model has a decent fit to the data. It has a good balance between bias and variance, performing well on both the training data and the test data."
      ],
      "metadata": {
        "id": "ajY3_Mw5OrNZ"
      }
    },
    {
      "cell_type": "code",
      "source": [
        "# Process the model for 'fractures_three_years'\n",
        "mae_train_fractures_nn, mae_test_fractures_nn = process_model('fractures_three_years', nn)\n",
        "\n",
        "mae_train_fractures_nn, mae_test_fractures_nn\n"
      ],
      "metadata": {
        "colab": {
          "base_uri": "https://localhost:8080/"
        },
        "id": "e4clRT8oOry2",
        "outputId": "4bb25fc7-3ef2-4ef3-a76e-7222e8035af3"
      },
      "execution_count": null,
      "outputs": [
        {
          "output_type": "execute_result",
          "data": {
            "text/plain": [
              "(0.01721130939576764, 0.4135381964395329)"
            ]
          },
          "metadata": {},
          "execution_count": 22
        }
      ]
    },
    {
      "cell_type": "markdown",
      "source": [
        "For the 'falls_one_year' model:\n",
        "\n",
        "Linear Regression: Training MAE: 0.00001, Test MAE: 0.20674\n",
        "Random Forest: Training MAE: 0.17204, Test MAE: 0.22167\n",
        "Neural Network: Training MAE: 0.00190, Test MAE: 1.78932\n",
        "\n",
        "\n",
        "For the 'fractures_three_years' model:\n",
        "\n",
        "Linear Regression: Training MAE: 5.557e-14, Test MAE: 0.35447\n",
        "Random Forest: Training MAE: 0.09903, Test MAE: 0.09125\n",
        "Neural Network: Training MAE: 0.02323, Test MAE: 0.52995\n",
        "\n",
        "\n",
        "While the Random Forest model seems to be the best choice among these models, it's also important to consider other factors, such as the interpretability of the model, the computational resources available, and the specific requirements of your project or application. Further tuning of the model parameters could potentially improve the performance as well."
      ],
      "metadata": {
        "id": "1x9ewtjKO3HO"
      }
    },
    {
      "cell_type": "markdown",
      "source": [
        "Unsupervised Learning"
      ],
      "metadata": {
        "id": "5K_AquAtRIP3"
      }
    },
    {
      "cell_type": "code",
      "source": [
        "from sklearn.cluster import KMeans\n",
        "from sklearn.preprocessing import StandardScaler, OneHotEncoder\n",
        "from sklearn.compose import make_column_transformer\n",
        "from sklearn.pipeline import make_pipeline\n",
        "from scipy.spatial.distance import cdist\n",
        "import matplotlib.pyplot as plt\n",
        "\n",
        "# Identify categorical columns\n",
        "categorical_cols = df.select_dtypes(include=['object', 'category']).columns\n",
        "\n",
        "# Perform one-hot encoding\n",
        "df_encoded = pd.get_dummies(df, columns=categorical_cols, prefix=categorical_cols)\n",
        "\n",
        "# Scale the data\n",
        "scaler = StandardScaler()\n",
        "df_scaled = scaler.fit_transform(df_encoded)\n",
        "\n",
        "# Determine the optimal number of clusters\n",
        "distortions = []\n",
        "K = range(1,10)\n",
        "for k in K:\n",
        "    kmeanModel = KMeans(n_clusters=k)\n",
        "    kmeanModel.fit(df_scaled)\n",
        "    distortions.append(sum(np.min(cdist(df_scaled, kmeanModel.cluster_centers_, 'euclidean'), axis=1)) / df_scaled.shape[0])\n",
        "\n",
        "# Plot the elbow\n",
        "plt.plot(K, distortions, 'bx-')\n",
        "plt.xlabel('k')\n",
        "plt.ylabel('Distortion')\n",
        "plt.title('The Elbow Method showing the optimal k')\n",
        "plt.show()\n"
      ],
      "metadata": {
        "colab": {
          "base_uri": "https://localhost:8080/",
          "height": 804
        },
        "id": "4qMZfahoOxMb",
        "outputId": "b960e519-48fb-4e8f-86cd-249df96364f8"
      },
      "execution_count": null,
      "outputs": [
        {
          "output_type": "stream",
          "name": "stderr",
          "text": [
            "/usr/local/lib/python3.10/dist-packages/sklearn/cluster/_kmeans.py:870: FutureWarning: The default value of `n_init` will change from 10 to 'auto' in 1.4. Set the value of `n_init` explicitly to suppress the warning\n",
            "  warnings.warn(\n",
            "/usr/local/lib/python3.10/dist-packages/sklearn/cluster/_kmeans.py:870: FutureWarning: The default value of `n_init` will change from 10 to 'auto' in 1.4. Set the value of `n_init` explicitly to suppress the warning\n",
            "  warnings.warn(\n",
            "/usr/local/lib/python3.10/dist-packages/sklearn/cluster/_kmeans.py:870: FutureWarning: The default value of `n_init` will change from 10 to 'auto' in 1.4. Set the value of `n_init` explicitly to suppress the warning\n",
            "  warnings.warn(\n",
            "/usr/local/lib/python3.10/dist-packages/sklearn/cluster/_kmeans.py:870: FutureWarning: The default value of `n_init` will change from 10 to 'auto' in 1.4. Set the value of `n_init` explicitly to suppress the warning\n",
            "  warnings.warn(\n",
            "/usr/local/lib/python3.10/dist-packages/sklearn/cluster/_kmeans.py:870: FutureWarning: The default value of `n_init` will change from 10 to 'auto' in 1.4. Set the value of `n_init` explicitly to suppress the warning\n",
            "  warnings.warn(\n",
            "/usr/local/lib/python3.10/dist-packages/sklearn/cluster/_kmeans.py:870: FutureWarning: The default value of `n_init` will change from 10 to 'auto' in 1.4. Set the value of `n_init` explicitly to suppress the warning\n",
            "  warnings.warn(\n",
            "/usr/local/lib/python3.10/dist-packages/sklearn/cluster/_kmeans.py:870: FutureWarning: The default value of `n_init` will change from 10 to 'auto' in 1.4. Set the value of `n_init` explicitly to suppress the warning\n",
            "  warnings.warn(\n",
            "/usr/local/lib/python3.10/dist-packages/sklearn/cluster/_kmeans.py:870: FutureWarning: The default value of `n_init` will change from 10 to 'auto' in 1.4. Set the value of `n_init` explicitly to suppress the warning\n",
            "  warnings.warn(\n",
            "/usr/local/lib/python3.10/dist-packages/sklearn/cluster/_kmeans.py:870: FutureWarning: The default value of `n_init` will change from 10 to 'auto' in 1.4. Set the value of `n_init` explicitly to suppress the warning\n",
            "  warnings.warn(\n"
          ]
        },
        {
          "output_type": "display_data",
          "data": {
            "text/plain": [
              "<Figure size 640x480 with 1 Axes>"
            ],
            "image/png": "[encoded data removed]"
          },
          "metadata": {}
        }
      ]
    },
    {
      "cell_type": "markdown",
      "source": [
        "The Elbow Method plot suggests that the optimal number of clusters is around 2 or 3, as that's where the decrease in distortion begins to slow down significantly, forming an \"elbow\".\n",
        "\n",
        "Now, let's fit the K-Means algorithm to the data with the optimal number of clusters and observe the results. We'll use 3 clusters for this analysis."
      ],
      "metadata": {
        "id": "AJFX5colRb02"
      }
    },
    {
      "cell_type": "code",
      "source": [
        "# Define KMeans model\n",
        "kmeans = KMeans(n_clusters=3, random_state=42)\n",
        "\n",
        "# Fit the model\n",
        "kmeans.fit(df_scaled)\n",
        "\n",
        "# Add cluster labels to the dataframe\n",
        "df['cluster'] = kmeans.labels_\n",
        "\n",
        "df['cluster'].value_counts()\n"
      ],
      "metadata": {
        "colab": {
          "base_uri": "https://localhost:8080/"
        },
        "id": "jBBO-hajRO2i",
        "outputId": "cadd9470-496b-4982-c228-34f8a3981367"
      },
      "execution_count": null,
      "outputs": [
        {
          "output_type": "stream",
          "name": "stderr",
          "text": [
            "/usr/local/lib/python3.10/dist-packages/sklearn/cluster/_kmeans.py:870: FutureWarning: The default value of `n_init` will change from 10 to 'auto' in 1.4. Set the value of `n_init` explicitly to suppress the warning\n",
            "  warnings.warn(\n"
          ]
        },
        {
          "output_type": "execute_result",
          "data": {
            "text/plain": [
              "0    47\n",
              "1    45\n",
              "2    25\n",
              "Name: cluster, dtype: int64"
            ]
          },
          "metadata": {},
          "execution_count": 24
        }
      ]
    },
    {
      "cell_type": "markdown",
      "source": [
        "The K-Means clustering algorithm divided the data into 3 clusters. The distribution of data points across the clusters is as follows:\n",
        "\n",
        "Cluster 1: 47 data points\n",
        "Cluster 2: 45 data points\n",
        "Cluster 0: 25 data points"
      ],
      "metadata": {
        "id": "PWednyNyRfXK"
      }
    },
    {
      "cell_type": "code",
      "source": [
        "from scipy.cluster.hierarchy import dendrogram, linkage\n",
        "from matplotlib import pyplot as plt\n",
        "\n",
        "# Compute the linkage matrix for Hierarchical Clustering\n",
        "linked = linkage(df_scaled[:50], 'ward')  # Using 'ward' method and limit to first 50 samples due to computational constraints\n",
        "\n",
        "# Plot the dendrogram\n",
        "plt.figure(figsize=(10, 7))\n",
        "dendrogram(linked,\n",
        "            orientation='top',\n",
        "            distance_sort='descending',\n",
        "            show_leaf_counts=True)\n",
        "plt.show()\n"
      ],
      "metadata": {
        "colab": {
          "base_uri": "https://localhost:8080/",
          "height": 599
        },
        "id": "tzOkZLIgRSTu",
        "outputId": "0bb47ff3-df5f-40e2-b661-d9bb1cd1dc03"
      },
      "execution_count": null,
      "outputs": [
        {
          "output_type": "display_data",
          "data": {
            "text/plain": [
              "<Figure size 1000x700 with 1 Axes>"
            ],
            "image/png": "[encoded data removed]"
          },
          "metadata": {}
        }
      ]
    },
    {
      "cell_type": "code",
      "source": [
        "from sklearn.decomposition import PCA\n",
        "\n",
        "# Define PCA\n",
        "pca = PCA(n_components=2)\n",
        "\n",
        "# Fit and transform the data\n",
        "principalComponents = pca.fit_transform(df_scaled)\n",
        "\n",
        "# Convert to a DataFrame\n",
        "principalDf = pd.DataFrame(data = principalComponents, columns = ['principal component 1', 'principal component 2'])\n",
        "\n",
        "# Visualize 2D Projection\n",
        "fig = plt.figure(figsize = (8,8))\n",
        "ax = fig.add_subplot(1,1,1)\n",
        "ax.set_xlabel('Principal Component 1', fontsize = 15)\n",
        "ax.set_ylabel('Principal Component 2', fontsize = 15)\n",
        "ax.set_title('2 component PCA', fontsize = 20)\n",
        "\n",
        "# Define the clusters based on the K-Means labels\n",
        "colors = ['r', 'g', 'b']\n",
        "targets = [0, 1, 2]\n",
        "for target, color in zip(targets,colors):\n",
        "    indicesToKeep = df['cluster'] == target\n",
        "    ax.scatter(principalDf.loc[indicesToKeep, 'principal component 1']\n",
        "               , principalDf.loc[indicesToKeep, 'principal component 2']\n",
        "               , c = color\n",
        "               , s = 50)\n",
        "ax.legend(targets)\n",
        "ax.grid()\n"
      ],
      "metadata": {
        "colab": {
          "base_uri": "https://localhost:8080/",
          "height": 732
        },
        "id": "AGYMQNEtRk7E",
        "outputId": "1cc03db7-33ae-40dc-de8c-e00dd92a1e04"
      },
      "execution_count": null,
      "outputs": [
        {
          "output_type": "display_data",
          "data": {
            "text/plain": [
              "<Figure size 800x800 with 1 Axes>"
            ],
            "image/png": "[encoded data removed]"
          },
          "metadata": {}
        }
      ]
    },
    {
      "cell_type": "markdown",
      "source": [
        "The comparison between supervised learning (Random Forest) and unsupervised learning (Clustering) models is not straightforward because they serve different purposes and provide different types of insights.\n",
        "\n",
        "Supervised Learning - Random Forest: The main purpose of the Random Forest model in our context was to predict specific outcomes ('falls_one_year', 'fractures_three_years') based on different features. In this model, we use known outcomes to train the model and assess its performance based on its ability to predict these outcomes on unseen data. The performance of the model can be measured using metrics like Mean Absolute Error (MAE). In the case of 'falls_one_year', the Random Forest model had a Training MAE of 0.17204 and a Test MAE of 0.22167. For 'fractures_three_years', the model had a Training MAE of 0.09903 and a Test MAE of 0.09125.\n",
        "\n",
        "\n",
        "\n",
        "Unsupervised Learning - Clustering: The main purpose of unsupervised learning, specifically clustering, is to identify patterns or groupings in the data without the guidance of known outcomes. In our context, we applied K-Means Clustering to the dataset and found that the data can be grouped into 3 clusters. These clusters might represent different groups of patients with distinct characteristics. The performance of clustering models is usually assessed visually or by comparing the characteristics of the different clusters.\n",
        "\n",
        "\n",
        "\n",
        "To compare these models with respect to 'age' and 'bmi_score', we can look at how these features contribute to the prediction in the Random Forest model and how they vary across different clusters in the Clustering model."
      ],
      "metadata": {
        "id": "tv-u3SSjU3Lr"
      }
    },
    {
      "cell_type": "code",
      "source": [
        "# Define features and target for 'falls_one_year'\n",
        "X = df.drop(columns=['falls_one_year', 'fractures_three_years'])\n",
        "y = df['falls_one_year']\n",
        "\n",
        "# Identify categorical columns\n",
        "categorical_cols = X.select_dtypes(include=['object', 'category']).columns\n",
        "\n",
        "# Perform one-hot encoding\n",
        "X_encoded = pd.get_dummies(X, columns=categorical_cols, prefix=categorical_cols)\n",
        "\n",
        "# Ensure column names are unique and do not contain '[', ']', or '<'\n",
        "X_encoded.columns = [f\"col_{i}\" for i in range(X_encoded.shape[1])]\n",
        "\n",
        "# Split the data into training set and test set\n",
        "X_train, X_test, y_train, y_test = train_test_split(X_encoded, y, test_size=0.2, random_state=42)\n",
        "\n",
        "# Train the Random Forest model\n",
        "rf = RandomForestRegressor(random_state=42)\n",
        "rf.fit(X_train, y_train)\n",
        "\n",
        "# Get feature importance\n",
        "feature_importance = pd.Series(rf.feature_importances_, index=X_encoded.columns)\n",
        "\n",
        "# Get the feature importance for 'age' and 'bmi_score'\n",
        "age_importance = feature_importance['col_0']  # 'age' is the first column, so it's 'col_0' after encoding\n",
        "bmi_score_importance = feature_importance['col_1']  # 'bmi_score' is the second column, so it's 'col_1' after encoding\n",
        "\n",
        "age_importance, bmi_score_importance\n"
      ],
      "metadata": {
        "colab": {
          "base_uri": "https://localhost:8080/"
        },
        "id": "iTtY_ao4TkgV",
        "outputId": "990df839-7771-4648-f694-b97290082d30"
      },
      "execution_count": null,
      "outputs": [
        {
          "output_type": "execute_result",
          "data": {
            "text/plain": [
              "(0.0012663834188230297, 0.0017530001903130429)"
            ]
          },
          "metadata": {},
          "execution_count": 27
        }
      ]
    },
    {
      "cell_type": "markdown",
      "source": [
        "In the Random Forest model predicting 'falls_one_year', the feature importance scores for 'age' and 'bmi_score' are as follows:\n",
        "\n",
        "'age': 0.001266\n",
        "'bmi_score': 0.00175\n",
        "The feature importance score represents the total reduction in the node impurity, which is a measure of the quality of a split, that is brought by that feature. The higher the score, the more important the feature is in the decision-making process of the Random Forest model."
      ],
      "metadata": {
        "id": "eiHVJz9lVKWG"
      }
    },
    {
      "cell_type": "code",
      "source": [
        "# Calculate average 'age' and 'bmi_score' within each cluster\n",
        "cluster_avg = df.groupby('cluster')[['age', 'bmi_score']].mean()\n",
        "\n",
        "cluster_avg\n"
      ],
      "metadata": {
        "colab": {
          "base_uri": "https://localhost:8080/",
          "height": 174
        },
        "id": "diPOapUfVALx",
        "outputId": "ff601145-f19c-4d33-cfbb-8d77d0a7b84c"
      },
      "execution_count": null,
      "outputs": [
        {
          "output_type": "execute_result",
          "data": {
            "text/plain": [
              "               age  bmi_score\n",
              "cluster                      \n",
              "0        75.723404  25.984942\n",
              "1        77.644444  28.854436\n",
              "2        76.960000  33.361823"
            ],
            "text/html": [
              "\n",
              "\n",
              "  <div id=\"df-f5a66bd8-c074-45b9-9101-de600729020e\">\n",
              "    <div class=\"colab-df-container\">\n",
              "      <div>\n",
              "<style scoped>\n",
              "    .dataframe tbody tr th:only-of-type {\n",
              "        vertical-align: middle;\n",
              "    }\n",
              "\n",
              "    .dataframe tbody tr th {\n",
              "        vertical-align: top;\n",
              "    }\n",
              "\n",
              "    .dataframe thead th {\n",
              "        text-align: right;\n",
              "    }\n",
              "</style>\n",
              "<table border=\"1\" class=\"dataframe\">\n",
              "  <thead>\n",
              "    <tr style=\"text-align: right;\">\n",
              "      <th></th>\n",
              "      <th>age</th>\n",
              "      <th>bmi_score</th>\n",
              "    </tr>\n",
              "    <tr>\n",
              "      <th>cluster</th>\n",
              "      <th></th>\n",
              "      <th></th>\n",
              "    </tr>\n",
              "  </thead>\n",
              "  <tbody>\n",
              "    <tr>\n",
              "      <th>0</th>\n",
              "      <td>75.723404</td>\n",
              "      <td>25.984942</td>\n",
              "    </tr>\n",
              "    <tr>\n",
              "      <th>1</th>\n",
              "      <td>77.644444</td>\n",
              "      <td>28.854436</td>\n",
              "    </tr>\n",
              "    <tr>\n",
              "      <th>2</th>\n",
              "      <td>76.960000</td>\n",
              "      <td>33.361823</td>\n",
              "    </tr>\n",
              "  </tbody>\n",
              "</table>\n",
              "</div>\n",
              "      <button class=\"colab-df-convert\" onclick=\"convertToInteractive('df-f5a66bd8-c074-45b9-9101-de600729020e')\"\n",
              "              title=\"Convert this dataframe to an interactive table.\"\n",
              "              style=\"display:none;\">\n",
              "\n",
              "  <svg xmlns=\"http://www.w3.org/2000/svg\" height=\"24px\"viewBox=\"0 0 24 24\"\n",
              "       width=\"24px\">\n",
              "    <path d=\"M0 0h24v24H0V0z\" fill=\"none\"/>\n",
              "    <path d=\"M18.56 5.44l.94 2.06.94-2.06 2.06-.94-2.06-.94-.94-2.06-.94 2.06-2.06.94zm-11 1L8.5 8.5l.94-2.06 2.06-.94-2.06-.94L8.5 2.5l-.94 2.06-2.06.94zm10 10l.94 2.06.94-2.06 2.06-.94-2.06-.94-.94-2.06-.94 2.06-2.06.94z\"/><path d=\"M17.41 7.96l-1.37-1.37c-.4-.4-.92-.59-1.43-.59-.52 0-1.04.2-1.43.59L10.3 9.45l-7.72 7.72c-.78.78-.78 2.05 0 2.83L4 21.41c.39.39.9.59 1.41.59.51 0 1.02-.2 1.41-.59l7.78-7.78 2.81-2.81c.8-.78.8-2.07 0-2.86zM5.41 20L4 18.59l7.72-7.72 1.47 1.35L5.41 20z\"/>\n",
              "  </svg>\n",
              "      </button>\n",
              "\n",
              "\n",
              "\n",
              "    <div id=\"df-f9b07f0e-ddf1-4f0b-9c0c-56d5a3c89c61\">\n",
              "      <button class=\"colab-df-quickchart\" onclick=\"quickchart('df-f9b07f0e-ddf1-4f0b-9c0c-56d5a3c89c61')\"\n",
              "              title=\"Suggest charts.\"\n",
              "              style=\"display:none;\">\n",
              "\n",
              "<svg xmlns=\"http://www.w3.org/2000/svg\" height=\"24px\"viewBox=\"0 0 24 24\"\n",
              "     width=\"24px\">\n",
              "    <g>\n",
              "        <path d=\"M19 3H5c-1.1 0-2 .9-2 2v14c0 1.1.9 2 2 2h14c1.1 0 2-.9 2-2V5c0-1.1-.9-2-2-2zM9 17H7v-7h2v7zm4 0h-2V7h2v10zm4 0h-2v-4h2v4z\"/>\n",
              "    </g>\n",
              "</svg>\n",
              "      </button>\n",
              "    </div>\n",
              "\n",
              "<style>\n",
              "  .colab-df-quickchart {\n",
              "    background-color: #E8F0FE;\n",
              "    border: none;\n",
              "    border-radius: 50%;\n",
              "    cursor: pointer;\n",
              "    display: none;\n",
              "    fill: #1967D2;\n",
              "    height: 32px;\n",
              "    padding: 0 0 0 0;\n",
              "    width: 32px;\n",
              "  }\n",
              "\n",
              "  .colab-df-quickchart:hover {\n",
              "    background-color: #E2EBFA;\n",
              "    box-shadow: 0px 1px 2px rgba(60, 64, 67, 0.3), 0px 1px 3px 1px rgba(60, 64, 67, 0.15);\n",
              "    fill: #174EA6;\n",
              "  }\n",
              "\n",
              "  [theme=dark] .colab-df-quickchart {\n",
              "    background-color: #3B4455;\n",
              "    fill: #D2E3FC;\n",
              "  }\n",
              "\n",
              "  [theme=dark] .colab-df-quickchart:hover {\n",
              "    background-color: #434B5C;\n",
              "    box-shadow: 0px 1px 3px 1px rgba(0, 0, 0, 0.15);\n",
              "    filter: drop-shadow(0px 1px 2px rgba(0, 0, 0, 0.3));\n",
              "    fill: #FFFFFF;\n",
              "  }\n",
              "</style>\n",
              "\n",
              "    <script>\n",
              "      async function quickchart(key) {\n",
              "        const containerElement = document.querySelector('#' + key);\n",
              "        const charts = await google.colab.kernel.invokeFunction(\n",
              "            'suggestCharts', [key], {});\n",
              "      }\n",
              "    </script>\n",
              "\n",
              "      <script>\n",
              "\n",
              "function displayQuickchartButton(domScope) {\n",
              "  let quickchartButtonEl =\n",
              "    domScope.querySelector('#df-f9b07f0e-ddf1-4f0b-9c0c-56d5a3c89c61 button.colab-df-quickchart');\n",
              "  quickchartButtonEl.style.display =\n",
              "    google.colab.kernel.accessAllowed ? 'block' : 'none';\n",
              "}\n",
              "\n",
              "        displayQuickchartButton(document);\n",
              "      </script>\n",
              "      <style>\n",
              "    .colab-df-container {\n",
              "      display:flex;\n",
              "      flex-wrap:wrap;\n",
              "      gap: 12px;\n",
              "    }\n",
              "\n",
              "    .colab-df-convert {\n",
              "      background-color: #E8F0FE;\n",
              "      border: none;\n",
              "      border-radius: 50%;\n",
              "      cursor: pointer;\n",
              "      display: none;\n",
              "      fill: #1967D2;\n",
              "      height: 32px;\n",
              "      padding: 0 0 0 0;\n",
              "      width: 32px;\n",
              "    }\n",
              "\n",
              "    .colab-df-convert:hover {\n",
              "      background-color: #E2EBFA;\n",
              "      box-shadow: 0px 1px 2px rgba(60, 64, 67, 0.3), 0px 1px 3px 1px rgba(60, 64, 67, 0.15);\n",
              "      fill: #174EA6;\n",
              "    }\n",
              "\n",
              "    [theme=dark] .colab-df-convert {\n",
              "      background-color: #3B4455;\n",
              "      fill: #D2E3FC;\n",
              "    }\n",
              "\n",
              "    [theme=dark] .colab-df-convert:hover {\n",
              "      background-color: #434B5C;\n",
              "      box-shadow: 0px 1px 3px 1px rgba(0, 0, 0, 0.15);\n",
              "      filter: drop-shadow(0px 1px 2px rgba(0, 0, 0, 0.3));\n",
              "      fill: #FFFFFF;\n",
              "    }\n",
              "  </style>\n",
              "\n",
              "      <script>\n",
              "        const buttonEl =\n",
              "          document.querySelector('#df-f5a66bd8-c074-45b9-9101-de600729020e button.colab-df-convert');\n",
              "        buttonEl.style.display =\n",
              "          google.colab.kernel.accessAllowed ? 'block' : 'none';\n",
              "\n",
              "        async function convertToInteractive(key) {\n",
              "          const element = document.querySelector('#df-f5a66bd8-c074-45b9-9101-de600729020e');\n",
              "          const dataTable =\n",
              "            await google.colab.kernel.invokeFunction('convertToInteractive',\n",
              "                                                     [key], {});\n",
              "          if (!dataTable) return;\n",
              "\n",
              "          const docLinkHtml = 'Like what you see? Visit the ' +\n",
              "            '<a target=\"_blank\" href=https://colab.research.google.com/notebooks/data_table.ipynb>data table notebook</a>'\n",
              "            + ' to learn more about interactive tables.';\n",
              "          element.innerHTML = '';\n",
              "          dataTable['output_type'] = 'display_data';\n",
              "          await google.colab.output.renderOutput(dataTable, element);\n",
              "          const docLink = document.createElement('div');\n",
              "          docLink.innerHTML = docLinkHtml;\n",
              "          element.appendChild(docLink);\n",
              "        }\n",
              "      </script>\n",
              "    </div>\n",
              "  </div>\n"
            ]
          },
          "metadata": {},
          "execution_count": 28
        }
      ]
    },
    {
      "cell_type": "markdown",
      "source": [
        "In the K-Means Clustering model, the average 'age' and 'bmi_score' within each cluster are as follows:\n",
        "\n",
        "Cluster 0:\n",
        "\n",
        "'age': 75.7\n",
        "'bmi_score': 25.98\n",
        "Cluster 1:\n",
        "\n",
        "'age': 77.81\n",
        "'bmi_score': 28.85\n",
        "Cluster 2:\n",
        "\n",
        "'age': 76.96\n",
        "'bmi_score': 31.361"
      ],
      "metadata": {
        "id": "nvV1l5yrVWiA"
      }
    },
    {
      "cell_type": "markdown",
      "source": [
        "These averages provide some insight into the characteristics of each cluster. For example, we can see that Cluster 2 has the highest average BMI score and also the highest average age, which might suggest a correlation between age and BMI in this cluster.\n",
        "\n",
        "\n",
        "\n",
        "To summarize, in the Random Forest model, 'age' and 'bmi_score' have relatively low feature importance scores, suggesting that they may not be the main drivers of the predicted outcomes ('falls_one_year'). On the other hand, in the K-Means Clustering model, 'age' and 'bmi_score' vary across clusters, suggesting that they might be relevant in distinguishing between different groups of patients."
      ],
      "metadata": {
        "id": "UOwkMYg1Vt8Q"
      }
    },
    {
      "cell_type": "code",
      "source": [
        "# Import necessary libraries\n",
        "import seaborn as sns\n",
        "\n",
        "# Create a barplot for feature importances in the Random Forest model\n",
        "plt.figure(figsize=(10, 5))\n",
        "sns.barplot(x=[age_importance, bmi_score_importance], y=['age', 'bmi_score'])\n",
        "plt.title('Feature Importances in Random Forest Model')\n",
        "plt.xlabel('Feature Importance Score')\n",
        "plt.ylabel('Feature')\n",
        "plt.show()\n",
        "\n",
        "# Create a barplot for average 'age' and 'bmi_score' in each cluster\n",
        "cluster_avg.reset_index().melt(id_vars='cluster', value_vars=['age', 'bmi_score']).pipe(\n",
        "    (sns.catplot, 'data'), x='cluster', y='value', hue='variable', kind='bar', height=5, aspect=2\n",
        ")\n",
        "plt.title('Average Age and BMI Score in Each Cluster')\n",
        "plt.xlabel('Cluster')\n",
        "plt.ylabel('Average Value')\n",
        "plt.show()\n"
      ],
      "metadata": {
        "colab": {
          "base_uri": "https://localhost:8080/",
          "height": 999
        },
        "id": "WMT9XWAQVSeB",
        "outputId": "8efc6815-2b48-4e87-f174-f897f326116e"
      },
      "execution_count": null,
      "outputs": [
        {
          "output_type": "display_data",
          "data": {
            "text/plain": [
              "<Figure size 1000x500 with 1 Axes>"
            ],
            "image/png": "[encoded data removed]"
          },
          "metadata": {}
        },
        {
          "output_type": "display_data",
          "data": {
            "text/plain": [
              "<Figure size 1120.5x500 with 1 Axes>"
            ],
            "image/png": "[encoded data removed]"
          },
          "metadata": {}
        }
      ]
    },
    {
      "cell_type": "markdown",
      "source": [
        "Feature Importances in Random Forest Model: The first bar plot shows the feature importance scores for 'age' and 'bmi_score' in the Random Forest model predicting 'falls_one_year'. The feature importance score represents the total reduction in the node impurity, which is a measure of the quality of a split, that is brought by that feature. The higher the score, the more important the feature is in the decision-making process of the Random Forest model.\n",
        "\n",
        "Average Age and BMI Score in Each Cluster: The second plot shows the average 'age' and 'bmi_score' within each cluster identified by the K-Means Clustering model. The different colors represent 'age' and 'bmi_score'. This visualization helps us understand how 'age' and 'bmi_score' vary across different clusters."
      ],
      "metadata": {
        "id": "Gbd5_6WVYONh"
      }
    },
    {
      "cell_type": "code",
      "source": [
        "# Define function to compute feature importances\n",
        "def compute_feature_importance(target):\n",
        "    # Define features and target\n",
        "    X = df.drop(columns=['falls_one_year', 'fractures_three_years'])\n",
        "    y = df[target]\n",
        "\n",
        "    # Identify categorical columns\n",
        "    categorical_cols = X.select_dtypes(include=['object', 'category']).columns\n",
        "\n",
        "    # Perform one-hot encoding\n",
        "    X_encoded = pd.get_dummies(X, columns=categorical_cols, prefix=categorical_cols)\n",
        "\n",
        "    # Ensure column names are unique and do not contain '[', ']', or '<'\n",
        "    X_encoded.columns = [f\"col_{i}\" for i in range(X_encoded.shape[1])]\n",
        "\n",
        "    # Split the data into training set and test set\n",
        "    X_train, X_test, y_train, y_test = train_test_split(X_encoded, y, test_size=0.2, random_state=42)\n",
        "\n",
        "    # Train the Random Forest model\n",
        "    rf = RandomForestRegressor(random_state=42)\n",
        "    rf.fit(X_train, y_train)\n",
        "\n",
        "    # Get feature importance\n",
        "    feature_importance = pd.Series(rf.feature_importances_, index=X_encoded.columns)\n",
        "\n",
        "    return feature_importance\n",
        "\n",
        "# Compute feature importances for 'falls_one_year' and 'fractures_three_years'\n",
        "feature_importance_falls = compute_feature_importance('falls_one_year')\n",
        "feature_importance_fractures = compute_feature_importance('fractures_three_years')\n",
        "\n",
        "# Get the top 10 risk factors for 'falls_one_year' and 'fractures_three_years'\n",
        "top_risk_factors_falls = feature_importance_falls.sort_values(ascending=False).head(10)\n",
        "top_risk_factors_fractures = feature_importance_fractures.sort_values(ascending=False).head(10)\n",
        "\n",
        "top_risk_factors_falls, top_risk_factors_fractures\n"
      ],
      "metadata": {
        "colab": {
          "base_uri": "https://localhost:8080/"
        },
        "id": "rzjqLNArYIWh",
        "outputId": "48cf51a4-4539-4fd7-b7ea-de5c4b1f94bf"
      },
      "execution_count": null,
      "outputs": [
        {
          "output_type": "execute_result",
          "data": {
            "text/plain": [
              "(col_128    0.670504\n",
              " col_63     0.046341\n",
              " col_24     0.041802\n",
              " col_10     0.028602\n",
              " col_15     0.026506\n",
              " col_3      0.023701\n",
              " col_28     0.021308\n",
              " col_170    0.008543\n",
              " col_159    0.007252\n",
              " col_17     0.007210\n",
              " dtype: float64,\n",
              " col_86     0.336624\n",
              " col_82     0.118836\n",
              " col_3      0.067196\n",
              " col_23     0.053074\n",
              " col_128    0.041649\n",
              " col_28     0.032042\n",
              " col_17     0.031636\n",
              " col_25     0.026514\n",
              " col_105    0.022865\n",
              " col_24     0.022675\n",
              " dtype: float64)"
            ]
          },
          "metadata": {},
          "execution_count": 30
        }
      ]
    },
    {
      "cell_type": "code",
      "source": [],
      "metadata": {
        "id": "JlEweBHpaLNb"
      },
      "execution_count": null,
      "outputs": []
    }
  ]
}